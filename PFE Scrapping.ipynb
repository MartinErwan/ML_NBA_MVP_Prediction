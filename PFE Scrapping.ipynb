{
 "cells": [
  {
   "cell_type": "markdown",
   "id": "bc51dfc3",
   "metadata": {},
   "source": [
    "# PFE : Analyse de données statistiques sportives"
   ]
  },
  {
   "cell_type": "markdown",
   "id": "84bf79cb",
   "metadata": {},
   "source": [
    "## I. Scrapping des données"
   ]
  },
  {
   "cell_type": "markdown",
   "id": "c2977d93",
   "metadata": {},
   "source": [
    "Dans un premier temps, nous allons chercher à prédire le prochain MVP en NBA.\n",
    "Pour cela, on s'intéressera aux informations suivantes :\n",
    "- Votes MVP de chaque année depuis 1980 \n",
    "- Statistiques des joueurs depuis 1980\n",
    "- Statistiques des équipes depuis 1980  \n",
    "\n",
    "Remarque : On récupère les données depuis 1980 car la saison 1980-1981 était la première saison pour laquelle ce n'était plus les joueurs qui votaient mais des journalistes et des commentateurs comme c'est le cas actuellement."
   ]
  },
  {
   "cell_type": "markdown",
   "id": "83b6660e",
   "metadata": {},
   "source": [
    "### Basketball Reference\n",
    "Nous récupérons les données (dans un premier temps) sur le site https://www.basketball-reference.com qui répertorie un nombre conséquent de statistiques en NBA pour chaque saison.\n"
   ]
  },
  {
   "cell_type": "markdown",
   "id": "5d73bacd",
   "metadata": {},
   "source": [
    "On commence tout d'abord par repérer les pages qui vont nous intéresser"
   ]
  },
  {
   "cell_type": "markdown",
   "id": "6c48d7b7",
   "metadata": {},
   "source": [
    "### Votes MVP"
   ]
  },
  {
   "cell_type": "markdown",
   "id": "259a51a8",
   "metadata": {},
   "source": [
    "<img src=\"image/img1.png\" style=\"height:300px\">"
   ]
  },
  {
   "cell_type": "markdown",
   "id": "176e460e",
   "metadata": {},
   "source": [
    "Sur cette page, on a les votes du MVP pour la saison 2021-2022 ainsi il faudrait être capable de récupérer la page correspondante pour chaque saison depuis 1980.\n",
    "Ce qui nous fait une quarantaine de page à récupérer"
   ]
  },
  {
   "cell_type": "markdown",
   "id": "6d0efd2c",
   "metadata": {},
   "source": [
    "### Statistiques joueurs"
   ]
  },
  {
   "cell_type": "markdown",
   "id": "25152d22",
   "metadata": {},
   "source": [
    "<img src=\"image/img2.png\" style=\"height:300px\">"
   ]
  },
  {
   "cell_type": "markdown",
   "id": "4ea0b706",
   "metadata": {},
   "source": [
    "Sur cette page, on a les statistiques moyennes par match pour chaque joueur pour la saison 2021-2022 ainsi il faudrait être capable de récupérer la page correspondante pour chaque saison depuis 1980. Ce qui nous fait une quarantaine de page à récupérer.\n",
    "\n",
    "Remarque : Certains joueurs apparaissent en double voire triple car ces statistiques sont calculés pour chaque équipe\n",
    "dans lesquelles ils ont joué durant la saison"
   ]
  },
  {
   "cell_type": "markdown",
   "id": "8aaaf4b3",
   "metadata": {},
   "source": [
    "### Statistiques des équipes"
   ]
  },
  {
   "cell_type": "markdown",
   "id": "cf3d7242",
   "metadata": {},
   "source": [
    "<img src=\"image/img3.png\" style=\"height:300px\">"
   ]
  },
  {
   "cell_type": "markdown",
   "id": "75435f3c",
   "metadata": {},
   "source": [
    "Sur cette page, nous avons les statistiques des équipes de la conférence Est de la NBA ainsi que celles de la conférence Ouest.\n",
    "On va chercher à récupérer une combinaison de ces deux tableaux pour chaque année depuis 1980. Ce qui nous fait une quarantaine de page à récupérer."
   ]
  },
  {
   "cell_type": "markdown",
   "id": "49bd316d",
   "metadata": {},
   "source": [
    "### BILAN\n",
    "On a donc environ 120 pages à récupérer, il va donc nous falloir 120 requêtes.\n",
    "\n",
    "### PROBLEME\n",
    "\n",
    "Le site Basketball Reference possède une protection contre les attaques DDOS ce qui provoque un ban ip au bout d'une trantaine de requêtes consécutives, ce qui pose problème dans notre cas.\n",
    "\n",
    "On a donc trouvé une solution en nous tournant vers le module Selenium qui de part son fonctionnement, contourne cette protection."
   ]
  },
  {
   "cell_type": "markdown",
   "id": "893cfbfb",
   "metadata": {},
   "source": [
    "## CODE"
   ]
  },
  {
   "cell_type": "markdown",
   "id": "6c041ef4",
   "metadata": {},
   "source": [
    "### Import des librairies nécessaires"
   ]
  },
  {
   "cell_type": "code",
   "execution_count": 1,
   "id": "f40e1d7c",
   "metadata": {},
   "outputs": [],
   "source": [
    "from selenium import webdriver\n",
    "from selenium.webdriver.chrome.service import Service\n",
    "from bs4 import BeautifulSoup\n",
    "import pandas as pd\n",
    "import time\n",
    "import sqlite3"
   ]
  },
  {
   "cell_type": "markdown",
   "id": "1f511b87",
   "metadata": {},
   "source": [
    "### Définition de variable générale"
   ]
  },
  {
   "cell_type": "code",
   "execution_count": 4,
   "id": "dbd7647d",
   "metadata": {},
   "outputs": [],
   "source": [
    "years =  list(range(1980,2023)) #liste des années dont on récupère les données\n",
    "s = Service('/chromedriver/chromedriver.exe')\n",
    "driver = webdriver.Chrome(service = s) #définition du driver chrome pour le scrapping avec selenium"
   ]
  },
  {
   "cell_type": "markdown",
   "id": "c57d2c1e",
   "metadata": {},
   "source": [
    "### A) Scrapping votes MVP"
   ]
  },
  {
   "cell_type": "markdown",
   "id": "c82a6e23",
   "metadata": {},
   "source": [
    "1) Récupération des fichiers html associés à chaque page contenant les votes MVP que l'on stocke dans un dossier \"mvp\" "
   ]
  },
  {
   "cell_type": "code",
   "execution_count": null,
   "id": "51580019",
   "metadata": {},
   "outputs": [],
   "source": [
    "url_mvps = \"https://www.basketball-reference.com/awards/awards_{}.html\"\n",
    "for year in years:\n",
    "    url = url_mvps.format(year)\n",
    "    driver.get(url)\n",
    "    html = driver.page_source #grab the data\n",
    "    with open(\"mvp/{}.html\".format(year),\"w+\",encoding=\"utf-8\") as f:\n",
    "        f.write(html)\n",
    "    "
   ]
  },
  {
   "cell_type": "markdown",
   "id": "229afcda",
   "metadata": {},
   "source": [
    "2) Exploitation des fichiers html pour créer un dataframe exploitable"
   ]
  },
  {
   "cell_type": "markdown",
   "id": "b0f94d01",
   "metadata": {},
   "source": [
    "En s'intéressant au fichier html, en repère rapidement la partie du code qui va nous intéresser (ici la balise ayant pour id  \"mvp\")"
   ]
  },
  {
   "cell_type": "markdown",
   "id": "caf0130e",
   "metadata": {},
   "source": [
    "<img src=\"image/img4.png\" style=\"height:400px\">"
   ]
  },
  {
   "cell_type": "markdown",
   "id": "ab4a38ba",
   "metadata": {},
   "source": [
    "On en profite pour retirer directement la ligne \"over_header\" qui n'a pas d'utilité dans notre étude "
   ]
  },
  {
   "cell_type": "markdown",
   "id": "ff1dc2c1",
   "metadata": {},
   "source": [
    "<img src=\"image/img5.png\" style=\"height:400px\">"
   ]
  },
  {
   "cell_type": "code",
   "execution_count": null,
   "id": "7ecbdb60",
   "metadata": {},
   "outputs": [],
   "source": [
    "dfs = []\n",
    "for year in years:\n",
    "    with open(\"mvp/{}.html\".format(year),encoding=\"utf-8\") as f:\n",
    "        page = f.read()\n",
    "    soup = BeautifulSoup(page,\"html.parser\")\n",
    "    if(soup.find('tr',class_ = \"over_header\")!=None):\n",
    "        soup.find('tr',class_ = \"over_header\").decompose()\n",
    "    \n",
    "    mvp_table = soup.find_all(id = \"mvp\")\n",
    "    mvp = pd.read_html(str(mvp_table))[0]\n",
    "    mvp[\"Year\"] = year #Pour distinguer l'année dont vient les données\n",
    "    dfs.append(mvp)\n",
    "mvps = pd.concat(dfs)\n",
    "mvps"
   ]
  },
  {
   "cell_type": "markdown",
   "id": "16936fdd",
   "metadata": {},
   "source": [
    "3) Envoi dans un base de donnée SQL"
   ]
  },
  {
   "cell_type": "code",
   "execution_count": null,
   "id": "c35cb1b4",
   "metadata": {},
   "outputs": [],
   "source": [
    "mvpcon = sqlite3.connect('mvp.sqlite')"
   ]
  },
  {
   "cell_type": "code",
   "execution_count": null,
   "id": "9b389d56",
   "metadata": {},
   "outputs": [],
   "source": [
    "mvps.to_sql(\"MVP\", con = mvpcon)"
   ]
  },
  {
   "cell_type": "code",
   "execution_count": null,
   "id": "0a5664da",
   "metadata": {},
   "outputs": [],
   "source": [
    "print(mvpcon.execute(\"SELECT * FROM MVP\").fetchall())"
   ]
  },
  {
   "cell_type": "markdown",
   "id": "43320857",
   "metadata": {},
   "source": [
    "### B)  Scrapping statistiques joueurs"
   ]
  },
  {
   "cell_type": "markdown",
   "id": "a4f51592",
   "metadata": {},
   "source": [
    "1) Récupération des fichiers html associés à chaque page contenant les statistiques des joueurs que l'on stocke dans un dossier \"player\""
   ]
  },
  {
   "cell_type": "code",
   "execution_count": null,
   "id": "f2b1d457",
   "metadata": {},
   "outputs": [],
   "source": [
    "player_stats_url = \"https://www.basketball-reference.com/leagues/NBA_{}_per_game.html\"\n",
    "for year in years:\n",
    "    url = player_stats_url.format(year)\n",
    "    driver.get(url)\n",
    "    html = driver.page_source #grab the data\n",
    "    with open(\"player/{}.html\".format(year),\"w+\",encoding=\"utf-8\") as f:\n",
    "        f.write(html)\n",
    "  "
   ]
  },
  {
   "cell_type": "code",
   "execution_count": 7,
   "id": "3d5c0d89",
   "metadata": {},
   "outputs": [],
   "source": [
    "player_advanced_stats_url = \"https://www.basketball-reference.com/leagues/NBA_{}_advanced.html\"\n",
    "for year in years:\n",
    "    url = player_advanced_stats_url.format(year)\n",
    "    driver.get(url)\n",
    "    html = driver.page_source #grab the data\n",
    "    with open(\"advanced/{}.html\".format(year),\"w+\",encoding=\"utf-8\") as f:\n",
    "        f.write(html)"
   ]
  },
  {
   "cell_type": "markdown",
   "id": "10da2798",
   "metadata": {},
   "source": [
    "2) Exploitation des fichiers html pour créer un dataframe exploitable"
   ]
  },
  {
   "cell_type": "markdown",
   "id": "3a27b65a",
   "metadata": {},
   "source": [
    "En s'intéressant au fichier html, en repère rapidement la partie du code qui va nous intéresser (ici la balise ayant pour id  \"per_game_stats\")"
   ]
  },
  {
   "cell_type": "markdown",
   "id": "ef417e28",
   "metadata": {},
   "source": [
    "<img src=\"image/img8.png\" style=\"height:400px\">"
   ]
  },
  {
   "cell_type": "markdown",
   "id": "ee28d241",
   "metadata": {},
   "source": [
    "On en profite pour retirer les \"thead\" qui ne sont pas utiles pour notre étude"
   ]
  },
  {
   "cell_type": "markdown",
   "id": "a544fc3b",
   "metadata": {},
   "source": [
    "<img src=\"image/img9.png\" style=\"height:400px\">"
   ]
  },
  {
   "cell_type": "code",
   "execution_count": null,
   "id": "6262aa26",
   "metadata": {
    "scrolled": true
   },
   "outputs": [],
   "source": [
    "dfs2 = []\n",
    "for year in years:\n",
    "    with open(\"player/{}.html\".format(year),encoding=\"utf-8\") as f:\n",
    "        page = f.read()\n",
    "    soup = BeautifulSoup(page,\"html.parser\")\n",
    "    tHeads = soup.findAll('tr', class_=\"thead\")\n",
    "    for tHead in tHeads:\n",
    "        tHead.decompose()\n",
    "    player_table = soup.find(id = \"per_game_stats\")\n",
    "    player = pd.read_html(str(player_table))[0]\n",
    "    player[\"Year\"] = year\n",
    "    dfs2.append(player)\n",
    "players = pd.concat(dfs2)\n",
    "players"
   ]
  },
  {
   "cell_type": "code",
   "execution_count": 10,
   "id": "264664de",
   "metadata": {},
   "outputs": [
    {
     "data": {
      "text/html": [
       "<div>\n",
       "<style scoped>\n",
       "    .dataframe tbody tr th:only-of-type {\n",
       "        vertical-align: middle;\n",
       "    }\n",
       "\n",
       "    .dataframe tbody tr th {\n",
       "        vertical-align: top;\n",
       "    }\n",
       "\n",
       "    .dataframe thead th {\n",
       "        text-align: right;\n",
       "    }\n",
       "</style>\n",
       "<table border=\"1\" class=\"dataframe\">\n",
       "  <thead>\n",
       "    <tr style=\"text-align: right;\">\n",
       "      <th></th>\n",
       "      <th>Rk</th>\n",
       "      <th>Player</th>\n",
       "      <th>Pos</th>\n",
       "      <th>Age</th>\n",
       "      <th>Tm</th>\n",
       "      <th>G</th>\n",
       "      <th>MP</th>\n",
       "      <th>PER</th>\n",
       "      <th>TS%</th>\n",
       "      <th>3PAr</th>\n",
       "      <th>...</th>\n",
       "      <th>OWS</th>\n",
       "      <th>DWS</th>\n",
       "      <th>WS</th>\n",
       "      <th>WS/48</th>\n",
       "      <th>Unnamed: 24</th>\n",
       "      <th>OBPM</th>\n",
       "      <th>DBPM</th>\n",
       "      <th>BPM</th>\n",
       "      <th>VORP</th>\n",
       "      <th>Year</th>\n",
       "    </tr>\n",
       "  </thead>\n",
       "  <tbody>\n",
       "    <tr>\n",
       "      <th>0</th>\n",
       "      <td>1</td>\n",
       "      <td>Kareem Abdul-Jabbar*</td>\n",
       "      <td>C</td>\n",
       "      <td>32</td>\n",
       "      <td>LAL</td>\n",
       "      <td>82</td>\n",
       "      <td>3143</td>\n",
       "      <td>25.3</td>\n",
       "      <td>0.639</td>\n",
       "      <td>0.001</td>\n",
       "      <td>...</td>\n",
       "      <td>9.5</td>\n",
       "      <td>5.3</td>\n",
       "      <td>14.8</td>\n",
       "      <td>0.227</td>\n",
       "      <td>NaN</td>\n",
       "      <td>4.8</td>\n",
       "      <td>2.4</td>\n",
       "      <td>7.2</td>\n",
       "      <td>7.3</td>\n",
       "      <td>1980</td>\n",
       "    </tr>\n",
       "    <tr>\n",
       "      <th>1</th>\n",
       "      <td>2</td>\n",
       "      <td>Tom Abernethy</td>\n",
       "      <td>PF</td>\n",
       "      <td>25</td>\n",
       "      <td>GSW</td>\n",
       "      <td>67</td>\n",
       "      <td>1222</td>\n",
       "      <td>11.0</td>\n",
       "      <td>0.511</td>\n",
       "      <td>0.003</td>\n",
       "      <td>...</td>\n",
       "      <td>1.2</td>\n",
       "      <td>0.8</td>\n",
       "      <td>2.0</td>\n",
       "      <td>0.080</td>\n",
       "      <td>NaN</td>\n",
       "      <td>-1.0</td>\n",
       "      <td>-0.2</td>\n",
       "      <td>-1.2</td>\n",
       "      <td>0.2</td>\n",
       "      <td>1980</td>\n",
       "    </tr>\n",
       "    <tr>\n",
       "      <th>2</th>\n",
       "      <td>3</td>\n",
       "      <td>Alvan Adams</td>\n",
       "      <td>C</td>\n",
       "      <td>25</td>\n",
       "      <td>PHO</td>\n",
       "      <td>75</td>\n",
       "      <td>2168</td>\n",
       "      <td>19.2</td>\n",
       "      <td>0.571</td>\n",
       "      <td>0.002</td>\n",
       "      <td>...</td>\n",
       "      <td>3.1</td>\n",
       "      <td>3.9</td>\n",
       "      <td>7.0</td>\n",
       "      <td>0.155</td>\n",
       "      <td>NaN</td>\n",
       "      <td>1.7</td>\n",
       "      <td>1.9</td>\n",
       "      <td>3.6</td>\n",
       "      <td>3.1</td>\n",
       "      <td>1980</td>\n",
       "    </tr>\n",
       "    <tr>\n",
       "      <th>3</th>\n",
       "      <td>4</td>\n",
       "      <td>Tiny Archibald*</td>\n",
       "      <td>PG</td>\n",
       "      <td>31</td>\n",
       "      <td>BOS</td>\n",
       "      <td>80</td>\n",
       "      <td>2864</td>\n",
       "      <td>15.3</td>\n",
       "      <td>0.574</td>\n",
       "      <td>0.023</td>\n",
       "      <td>...</td>\n",
       "      <td>5.9</td>\n",
       "      <td>2.9</td>\n",
       "      <td>8.9</td>\n",
       "      <td>0.148</td>\n",
       "      <td>NaN</td>\n",
       "      <td>1.4</td>\n",
       "      <td>-0.3</td>\n",
       "      <td>1.1</td>\n",
       "      <td>2.3</td>\n",
       "      <td>1980</td>\n",
       "    </tr>\n",
       "    <tr>\n",
       "      <th>4</th>\n",
       "      <td>5</td>\n",
       "      <td>Dennis Awtrey</td>\n",
       "      <td>C</td>\n",
       "      <td>31</td>\n",
       "      <td>CHI</td>\n",
       "      <td>26</td>\n",
       "      <td>560</td>\n",
       "      <td>7.4</td>\n",
       "      <td>0.524</td>\n",
       "      <td>0.000</td>\n",
       "      <td>...</td>\n",
       "      <td>0.1</td>\n",
       "      <td>0.5</td>\n",
       "      <td>0.6</td>\n",
       "      <td>0.053</td>\n",
       "      <td>NaN</td>\n",
       "      <td>-2.3</td>\n",
       "      <td>0.9</td>\n",
       "      <td>-1.4</td>\n",
       "      <td>0.1</td>\n",
       "      <td>1980</td>\n",
       "    </tr>\n",
       "    <tr>\n",
       "      <th>...</th>\n",
       "      <td>...</td>\n",
       "      <td>...</td>\n",
       "      <td>...</td>\n",
       "      <td>...</td>\n",
       "      <td>...</td>\n",
       "      <td>...</td>\n",
       "      <td>...</td>\n",
       "      <td>...</td>\n",
       "      <td>...</td>\n",
       "      <td>...</td>\n",
       "      <td>...</td>\n",
       "      <td>...</td>\n",
       "      <td>...</td>\n",
       "      <td>...</td>\n",
       "      <td>...</td>\n",
       "      <td>...</td>\n",
       "      <td>...</td>\n",
       "      <td>...</td>\n",
       "      <td>...</td>\n",
       "      <td>...</td>\n",
       "      <td>...</td>\n",
       "    </tr>\n",
       "    <tr>\n",
       "      <th>674</th>\n",
       "      <td>535</td>\n",
       "      <td>Thaddeus Young</td>\n",
       "      <td>PF</td>\n",
       "      <td>34</td>\n",
       "      <td>TOR</td>\n",
       "      <td>54</td>\n",
       "      <td>795</td>\n",
       "      <td>14.1</td>\n",
       "      <td>0.573</td>\n",
       "      <td>0.172</td>\n",
       "      <td>...</td>\n",
       "      <td>0.7</td>\n",
       "      <td>1.1</td>\n",
       "      <td>1.8</td>\n",
       "      <td>0.109</td>\n",
       "      <td>NaN</td>\n",
       "      <td>-1.8</td>\n",
       "      <td>1.9</td>\n",
       "      <td>0.1</td>\n",
       "      <td>0.4</td>\n",
       "      <td>2023</td>\n",
       "    </tr>\n",
       "    <tr>\n",
       "      <th>675</th>\n",
       "      <td>536</td>\n",
       "      <td>Trae Young</td>\n",
       "      <td>PG</td>\n",
       "      <td>24</td>\n",
       "      <td>ATL</td>\n",
       "      <td>73</td>\n",
       "      <td>2541</td>\n",
       "      <td>22.0</td>\n",
       "      <td>0.573</td>\n",
       "      <td>0.331</td>\n",
       "      <td>...</td>\n",
       "      <td>5.3</td>\n",
       "      <td>1.4</td>\n",
       "      <td>6.7</td>\n",
       "      <td>0.126</td>\n",
       "      <td>NaN</td>\n",
       "      <td>5.3</td>\n",
       "      <td>-2.0</td>\n",
       "      <td>3.3</td>\n",
       "      <td>3.4</td>\n",
       "      <td>2023</td>\n",
       "    </tr>\n",
       "    <tr>\n",
       "      <th>676</th>\n",
       "      <td>537</td>\n",
       "      <td>Omer Yurtseven</td>\n",
       "      <td>C</td>\n",
       "      <td>24</td>\n",
       "      <td>MIA</td>\n",
       "      <td>9</td>\n",
       "      <td>83</td>\n",
       "      <td>16.7</td>\n",
       "      <td>0.675</td>\n",
       "      <td>0.259</td>\n",
       "      <td>...</td>\n",
       "      <td>0.2</td>\n",
       "      <td>0.1</td>\n",
       "      <td>0.3</td>\n",
       "      <td>0.159</td>\n",
       "      <td>NaN</td>\n",
       "      <td>-2.5</td>\n",
       "      <td>-1.5</td>\n",
       "      <td>-3.9</td>\n",
       "      <td>0.0</td>\n",
       "      <td>2023</td>\n",
       "    </tr>\n",
       "    <tr>\n",
       "      <th>677</th>\n",
       "      <td>538</td>\n",
       "      <td>Cody Zeller</td>\n",
       "      <td>C</td>\n",
       "      <td>30</td>\n",
       "      <td>MIA</td>\n",
       "      <td>15</td>\n",
       "      <td>217</td>\n",
       "      <td>16.4</td>\n",
       "      <td>0.659</td>\n",
       "      <td>0.034</td>\n",
       "      <td>...</td>\n",
       "      <td>0.4</td>\n",
       "      <td>0.3</td>\n",
       "      <td>0.7</td>\n",
       "      <td>0.147</td>\n",
       "      <td>NaN</td>\n",
       "      <td>-2.0</td>\n",
       "      <td>-0.7</td>\n",
       "      <td>-2.8</td>\n",
       "      <td>0.0</td>\n",
       "      <td>2023</td>\n",
       "    </tr>\n",
       "    <tr>\n",
       "      <th>678</th>\n",
       "      <td>539</td>\n",
       "      <td>Ivica Zubac</td>\n",
       "      <td>C</td>\n",
       "      <td>25</td>\n",
       "      <td>LAC</td>\n",
       "      <td>76</td>\n",
       "      <td>2170</td>\n",
       "      <td>16.7</td>\n",
       "      <td>0.661</td>\n",
       "      <td>0.004</td>\n",
       "      <td>...</td>\n",
       "      <td>3.8</td>\n",
       "      <td>2.9</td>\n",
       "      <td>6.7</td>\n",
       "      <td>0.149</td>\n",
       "      <td>NaN</td>\n",
       "      <td>-1.1</td>\n",
       "      <td>0.2</td>\n",
       "      <td>-0.9</td>\n",
       "      <td>0.6</td>\n",
       "      <td>2023</td>\n",
       "    </tr>\n",
       "  </tbody>\n",
       "</table>\n",
       "<p>23146 rows × 30 columns</p>\n",
       "</div>"
      ],
      "text/plain": [
       "      Rk                Player Pos  Age   Tm   G    MP   PER    TS%   3PAr  \\\n",
       "0      1  Kareem Abdul-Jabbar*   C   32  LAL  82  3143  25.3  0.639  0.001   \n",
       "1      2         Tom Abernethy  PF   25  GSW  67  1222  11.0  0.511  0.003   \n",
       "2      3           Alvan Adams   C   25  PHO  75  2168  19.2  0.571  0.002   \n",
       "3      4       Tiny Archibald*  PG   31  BOS  80  2864  15.3  0.574  0.023   \n",
       "4      5         Dennis Awtrey   C   31  CHI  26   560   7.4  0.524  0.000   \n",
       "..   ...                   ...  ..  ...  ...  ..   ...   ...    ...    ...   \n",
       "674  535        Thaddeus Young  PF   34  TOR  54   795  14.1  0.573  0.172   \n",
       "675  536            Trae Young  PG   24  ATL  73  2541  22.0  0.573  0.331   \n",
       "676  537        Omer Yurtseven   C   24  MIA   9    83  16.7  0.675  0.259   \n",
       "677  538           Cody Zeller   C   30  MIA  15   217  16.4  0.659  0.034   \n",
       "678  539           Ivica Zubac   C   25  LAC  76  2170  16.7  0.661  0.004   \n",
       "\n",
       "     ...  OWS  DWS    WS  WS/48  Unnamed: 24  OBPM  DBPM  BPM  VORP  Year  \n",
       "0    ...  9.5  5.3  14.8  0.227          NaN   4.8   2.4  7.2   7.3  1980  \n",
       "1    ...  1.2  0.8   2.0  0.080          NaN  -1.0  -0.2 -1.2   0.2  1980  \n",
       "2    ...  3.1  3.9   7.0  0.155          NaN   1.7   1.9  3.6   3.1  1980  \n",
       "3    ...  5.9  2.9   8.9  0.148          NaN   1.4  -0.3  1.1   2.3  1980  \n",
       "4    ...  0.1  0.5   0.6  0.053          NaN  -2.3   0.9 -1.4   0.1  1980  \n",
       "..   ...  ...  ...   ...    ...          ...   ...   ...  ...   ...   ...  \n",
       "674  ...  0.7  1.1   1.8  0.109          NaN  -1.8   1.9  0.1   0.4  2023  \n",
       "675  ...  5.3  1.4   6.7  0.126          NaN   5.3  -2.0  3.3   3.4  2023  \n",
       "676  ...  0.2  0.1   0.3  0.159          NaN  -2.5  -1.5 -3.9   0.0  2023  \n",
       "677  ...  0.4  0.3   0.7  0.147          NaN  -2.0  -0.7 -2.8   0.0  2023  \n",
       "678  ...  3.8  2.9   6.7  0.149          NaN  -1.1   0.2 -0.9   0.6  2023  \n",
       "\n",
       "[23146 rows x 30 columns]"
      ]
     },
     "execution_count": 10,
     "metadata": {},
     "output_type": "execute_result"
    }
   ],
   "source": [
    "dfs2_bis = []\n",
    "for year in years:\n",
    "    with open(\"advanced/{}.html\".format(year),encoding=\"utf-8\") as f:\n",
    "        page = f.read()\n",
    "    soup = BeautifulSoup(page,\"html.parser\")\n",
    "    tHeads = soup.findAll('tr', class_=\"thead\")\n",
    "    for tHead in tHeads:\n",
    "        tHead.decompose()\n",
    "    advanced_table = soup.find(id = \"advanced_stats\")\n",
    "    advanced = pd.read_html(str(advanced_table))[0]\n",
    "    advanced[\"Year\"] = year\n",
    "    dfs2_bis.append(advanced)\n",
    "advancedf = pd.concat(dfs2_bis)\n",
    "advancedf"
   ]
  },
  {
   "cell_type": "code",
   "execution_count": 13,
   "id": "f4ca9775",
   "metadata": {},
   "outputs": [],
   "source": [
    "del advancedf['Unnamed: 19']\n",
    "del advancedf['Unnamed: 24']"
   ]
  },
  {
   "cell_type": "markdown",
   "id": "ea3646f2",
   "metadata": {},
   "source": [
    "3) Envoi dans une base de donnée SQL"
   ]
  },
  {
   "cell_type": "code",
   "execution_count": 14,
   "id": "287d79c7",
   "metadata": {},
   "outputs": [],
   "source": [
    "advancedcon = sqlite3.connect('advanced_stats.sqlite')"
   ]
  },
  {
   "cell_type": "code",
   "execution_count": null,
   "id": "ba82a21e",
   "metadata": {},
   "outputs": [],
   "source": [
    "playerscon = sqlite3.connect('players.sqlite')"
   ]
  },
  {
   "cell_type": "code",
   "execution_count": 15,
   "id": "0d4a22b3",
   "metadata": {},
   "outputs": [
    {
     "data": {
      "text/plain": [
       "23146"
      ]
     },
     "execution_count": 15,
     "metadata": {},
     "output_type": "execute_result"
    }
   ],
   "source": [
    "advancedf.to_sql(\"ADVANCED_STATS\", con = advancedcon)"
   ]
  },
  {
   "cell_type": "code",
   "execution_count": null,
   "id": "a1059320",
   "metadata": {},
   "outputs": [],
   "source": [
    "players.to_sql(\"PLAYERS\", con = playerscon)"
   ]
  },
  {
   "cell_type": "markdown",
   "id": "966f49d6",
   "metadata": {},
   "source": [
    "### C) Scrapping des statistiques des équipes"
   ]
  },
  {
   "cell_type": "markdown",
   "id": "e06dd880",
   "metadata": {},
   "source": [
    "1) Récupération des fichiers html associés à chaque page contenant les statistiques des équipes que l'on stocke dans un dossier \"team\""
   ]
  },
  {
   "cell_type": "code",
   "execution_count": null,
   "id": "58275dcc",
   "metadata": {
    "scrolled": true
   },
   "outputs": [],
   "source": [
    "team_stats_url = \"https://www.basketball-reference.com/leagues/NBA_{}_standings.html\"\n",
    "for year in years:\n",
    "    url = team_stats_url.format(year)\n",
    "    driver.get(url)\n",
    "    html = driver.page_source #grab the data\n",
    "    with open(\"team/{}.html\".format(year),\"w+\",encoding=\"utf-8\") as f:\n",
    "        f.write(html)"
   ]
  },
  {
   "cell_type": "markdown",
   "id": "dacc9a28",
   "metadata": {},
   "source": [
    "2) Exploitation des fichiers html pour créer un dataframe exploitable"
   ]
  },
  {
   "cell_type": "markdown",
   "id": "2de66f31",
   "metadata": {},
   "source": [
    "En s'intéressant au fichier html, en repère rapidement la partie du code qui va nous intéresser. Ici ce sont les balises ayant pour id  \"divs_standings_E\" et \"divs_standings_W\" qui représentent respectivement les statistiques des équipes de la conférence Est de la Nba et celle de l'Ouest"
   ]
  },
  {
   "cell_type": "markdown",
   "id": "bf39aee5",
   "metadata": {},
   "source": [
    "Conférence Est\n",
    "<img src=\"image/img10.png\" style=\"height:350px\">\n",
    "Conférence Ouest\n",
    "<img src=\"image/img11.png\" style=\"height:350px\">"
   ]
  },
  {
   "cell_type": "markdown",
   "id": "6f9e256c",
   "metadata": {},
   "source": [
    "On en profite pour retirer encore une fois les \"thead\" inutiles"
   ]
  },
  {
   "cell_type": "markdown",
   "id": "9b6ad2c2",
   "metadata": {},
   "source": [
    "<img src=\"image/img12.png\" style=\"height:300px\">"
   ]
  },
  {
   "cell_type": "code",
   "execution_count": null,
   "id": "ae309a99",
   "metadata": {},
   "outputs": [],
   "source": [
    "dfs3 = []\n",
    "for year in years: \n",
    "    \n",
    "    with open(\"team/{}.html\".format(year),encoding=\"utf-8\") as f:\n",
    "        page = f.read()\n",
    "    soup = BeautifulSoup(page,\"html.parser\")\n",
    "    if(soup.find('tr', class_=\"thead\")!=None):\n",
    "         soup.find('tr', class_=\"thead\").decompose()\n",
    "    team_table = soup.find(id = \"divs_standings_E\")\n",
    "    team = pd.read_html(str(team_table))[0]\n",
    "    team[\"Year\"] = year\n",
    "    team[\"Team\"] = team[\"Eastern Conference\"]\n",
    "    del team[\"Eastern Conference\"]\n",
    "    dfs3.append(team)\n",
    "\n",
    "    soup = BeautifulSoup(page,\"html.parser\")\n",
    "    if(soup.find('tr', class_=\"thead\")!=None):\n",
    "        \n",
    "        soup.find('tr', class_=\"thead\").decompose()\n",
    "   \n",
    "    team_table = soup.find(id = \"divs_standings_W\")\n",
    "    team = pd.read_html(str(team_table))[0]\n",
    "    team[\"Year\"] = year\n",
    "    team[\"Team\"] = team[\"Western Conference\"]\n",
    "    del team[\"Western Conference\"]\n",
    "    dfs3.append(team)\n",
    "teams = pd.concat(dfs3)\n",
    "teams"
   ]
  },
  {
   "cell_type": "markdown",
   "id": "4e83468c",
   "metadata": {},
   "source": [
    "3) Envoi dans un base de donnée SQL"
   ]
  },
  {
   "cell_type": "code",
   "execution_count": null,
   "id": "7da161b3",
   "metadata": {},
   "outputs": [],
   "source": [
    "teamscon = sqlite3.connect('teams.sqlite')"
   ]
  },
  {
   "cell_type": "code",
   "execution_count": null,
   "id": "b3d4f17f",
   "metadata": {},
   "outputs": [],
   "source": [
    "teams.to_sql(\"TEAMS\", con = teamscon)"
   ]
  }
 ],
 "metadata": {
  "kernelspec": {
   "display_name": "Python 3 (ipykernel)",
   "language": "python",
   "name": "python3"
  },
  "language_info": {
   "codemirror_mode": {
    "name": "ipython",
    "version": 3
   },
   "file_extension": ".py",
   "mimetype": "text/x-python",
   "name": "python",
   "nbconvert_exporter": "python",
   "pygments_lexer": "ipython3",
   "version": "3.8.3"
  }
 },
 "nbformat": 4,
 "nbformat_minor": 5
}

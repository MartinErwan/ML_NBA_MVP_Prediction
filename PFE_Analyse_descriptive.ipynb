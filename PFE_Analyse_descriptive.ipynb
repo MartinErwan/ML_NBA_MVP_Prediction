{
 "cells": [
  {
   "cell_type": "code",
   "execution_count": null,
   "id": "e64bc19a",
   "metadata": {},
   "outputs": [],
   "source": [
    "import pandas as pd\n",
    "import sqlite3"
   ]
  },
  {
   "cell_type": "code",
   "execution_count": null,
   "id": "e48b382a",
   "metadata": {},
   "outputs": [],
   "source": [
    "FinalStatcon = sqlite3.connect('finalstat.sqlite')"
   ]
  },
  {
   "cell_type": "code",
   "execution_count": null,
   "id": "081d8ca0",
   "metadata": {},
   "outputs": [],
   "source": [
    "FinalStat = pd.read_sql(\"\"\"SELECT * from FinalStat\"\"\", FinalStatcon)"
   ]
  },
  {
   "cell_type": "code",
   "execution_count": null,
   "id": "0c3687f1",
   "metadata": {},
   "outputs": [],
   "source": [
    "DF = FinalStat.copy()"
   ]
  }
 ],
 "metadata": {
  "kernelspec": {
   "display_name": "Python 3 (ipykernel)",
   "language": "python",
   "name": "python3"
  },
  "language_info": {
   "codemirror_mode": {
    "name": "ipython",
    "version": 3
   },
   "file_extension": ".py",
   "mimetype": "text/x-python",
   "name": "python",
   "nbconvert_exporter": "python",
   "pygments_lexer": "ipython3",
   "version": "3.9.12"
  }
 },
 "nbformat": 4,
 "nbformat_minor": 5
}
